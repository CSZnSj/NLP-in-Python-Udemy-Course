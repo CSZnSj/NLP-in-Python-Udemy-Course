{
 "cells": [
  {
   "cell_type": "code",
   "execution_count": 2,
   "id": "e3051cce",
   "metadata": {},
   "outputs": [],
   "source": [
    "from cipher_solver import CipherSolver\n",
    "from text_tools import TextTools"
   ]
  },
  {
   "cell_type": "code",
   "execution_count": 3,
   "id": "a60e4d5e",
   "metadata": {},
   "outputs": [],
   "source": [
    "file_name = \"files/moby_dick.txt\"\n",
    "solver = CipherSolver.get_instance(file_name)"
   ]
  },
  {
   "cell_type": "code",
   "execution_count": 4,
   "id": "11b48a89",
   "metadata": {},
   "outputs": [],
   "source": [
    "text = '''I then lounged down the street and found,\n",
    "as I expected, that there was a mews in a lane which runs down\n",
    "by one wall of the garden. I lent the ostlers a hand in rubbing\n",
    "down their horses, and received in exchange twopence, a glass of\n",
    "half-and-half, two fills of shag tobacco, and as much information\n",
    "as I could desire about Miss Adler, to say nothing of half a dozen\n",
    "other people in the neighbourhood in whom I was not in the least\n",
    "interested, but whose biographies I was compelled to listen to.'''\n",
    "encoded = TextTools.get_encoded_tokens(text)\n",
    "decoded = solver.solve(encoded)"
   ]
  },
  {
   "cell_type": "code",
   "execution_count": 5,
   "id": "7fa4e267",
   "metadata": {},
   "outputs": [
    {
     "name": "stdout",
     "output_type": "stream",
     "text": [
      "i thas rouspaw woms tha ntlaat esw fousw en i akcagtaw thet thala men e bamn is e resa mhigh lusn woms zj osa merr of tha pelwas i rast tha ontraln e hesw is luzzisp woms thail holnan esw lagaivaw is akghespa tmocasga e prenn of herf esw herf tmo firrn of nhep tozeggo esw en bugh isfolbetios en i gourw wanila ezout binn ewral to nej sothisp of herf e woyas othal caocra is tha saiphzoulhoow is mhob i men sot is tha raent istalantaw zut mhona zioplechian i men gobcarraw to rintas to  \n"
     ]
    }
   ],
   "source": [
    "print(*decoded, \" \")"
   ]
  },
  {
   "cell_type": "code",
   "execution_count": null,
   "id": "9b24982d",
   "metadata": {},
   "outputs": [],
   "source": []
  }
 ],
 "metadata": {
  "kernelspec": {
   "display_name": "Python 3 (ipykernel)",
   "language": "python",
   "name": "python3"
  },
  "language_info": {
   "codemirror_mode": {
    "name": "ipython",
    "version": 3
   },
   "file_extension": ".py",
   "mimetype": "text/x-python",
   "name": "python",
   "nbconvert_exporter": "python",
   "pygments_lexer": "ipython3",
   "version": "3.10.9"
  }
 },
 "nbformat": 4,
 "nbformat_minor": 5
}
