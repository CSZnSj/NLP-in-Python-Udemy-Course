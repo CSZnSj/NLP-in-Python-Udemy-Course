{
 "cells": [
  {
   "cell_type": "code",
   "execution_count": 1,
   "id": "e3051cce",
   "metadata": {},
   "outputs": [],
   "source": [
    "from tools import Tools\n",
    "from probability import CharCounter, ProbabilityCalculator"
   ]
  },
  {
   "cell_type": "code",
   "execution_count": 2,
   "id": "a60e4d5e",
   "metadata": {
    "scrolled": true
   },
   "outputs": [],
   "source": [
    "file_name = \"files/moby_dick.txt\"\n",
    "train_text = Tools.read_file(file_name)\n",
    "train_tokens = Tools.tokenize(train_text)\n",
    "counter = CharCounter(train_tokens)\n",
    "calculator = ProbabilityCalculator(counter)"
   ]
  },
  {
   "cell_type": "code",
   "execution_count": 3,
   "id": "63105f65",
   "metadata": {},
   "outputs": [],
   "source": [
    "test_text = '''I then lounged down the street and found,\n",
    "as I expected, that there was a mews in a lane which runs down\n",
    "by one wall of the garden. I lent the ostlers a hand in rubbing\n",
    "down their horses, and received in exchange twopence, a glass of\n",
    "half-and-half, two fills of shag tobacco, and as much information\n",
    "as I could desire about Miss Adler, to say nothing of half a dozen\n",
    "other people in the neighbourhood in whom I was not in the least\n",
    "interested, but whose biographies I was compelled to listen to.'''\n",
    "test_tokens = Tools.tokenize(test_text)\n",
    "encoded_tokens = Tools.encode_tokens(test_tokens)"
   ]
  },
  {
   "cell_type": "code",
   "execution_count": 4,
   "id": "11b48a89",
   "metadata": {},
   "outputs": [],
   "source": [
    "best_cipher = Tools.solve(calculator, encoded_tokens)"
   ]
  },
  {
   "cell_type": "code",
   "execution_count": 5,
   "id": "a35dd11c",
   "metadata": {},
   "outputs": [],
   "source": [
    "decoded_tokens = Tools.decode_tokens(encoded_tokens, best_cipher)\n",
    "result = Tools.str_decoded_tokens(decoded_tokens)"
   ]
  },
  {
   "cell_type": "code",
   "execution_count": 6,
   "id": "7fa4e267",
   "metadata": {},
   "outputs": [
    {
     "name": "stdout",
     "output_type": "stream",
     "text": [
      "l tuei oanibem mahi tue stdeet rim fanim rs l expectem turt tuede hrs r wehs li r orie hulcu dnis mahi gy aie hroo af tue brdmei l oeit tue astoeds r urim li dngglib mahi tueld uadses rim decelkem li excuribe thapeice r borss af urof rim urof tha floos af surb tagrcca rim rs wncu lifadwrtlai rs l canom meslde rgant wlss rmoed ta sry iatulib af urof r mavei atued peapoe li tue ielbuganduaam li huaw l hrs iat li tue oerst litedestem gnt huase glabdrpules l hrs cawpeooem ta olstei ta\n"
     ]
    }
   ],
   "source": [
    "print(result)"
   ]
  }
 ],
 "metadata": {
  "kernelspec": {
   "display_name": "Python 3 (ipykernel)",
   "language": "python",
   "name": "python3"
  },
  "language_info": {
   "codemirror_mode": {
    "name": "ipython",
    "version": 3
   },
   "file_extension": ".py",
   "mimetype": "text/x-python",
   "name": "python",
   "nbconvert_exporter": "python",
   "pygments_lexer": "ipython3",
   "version": "3.10.9"
  }
 },
 "nbformat": 4,
 "nbformat_minor": 5
}
